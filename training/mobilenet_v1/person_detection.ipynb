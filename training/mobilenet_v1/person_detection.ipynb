{
 "cells": [
  {
   "cell_type": "code",
   "execution_count": null,
   "metadata": {},
   "outputs": [],
   "source": [
    "print(\"Hello World!\")"
   ]
  },
  {
   "cell_type": "code",
   "execution_count": null,
   "metadata": {},
   "outputs": [],
   "source": [
    "! cd ~\n",
    "! git clone https://github.com/tensorflow/models.git"
   ]
  },
  {
   "cell_type": "code",
   "execution_count": null,
   "metadata": {},
   "outputs": [],
   "source": [
    "! pip install contextlib2\n",
    "import os\n",
    "new_python_path = (os.environ.get(\"PYTHONPATH\") or '') + \":models/research/slim\"\n",
    "%env PYTHONPATH=$new_python_path"
   ]
  },
  {
   "cell_type": "code",
   "execution_count": null,
   "metadata": {},
   "outputs": [],
   "source": [
    "! python models/research/slim/download_and_convert_data.py \\\n",
    "--dataset_name=visualwakewords \\\n",
    "--dataset_dir=data/visualwakewords "
   ]
  },
  {
   "cell_type": "code",
   "execution_count": null,
   "metadata": {},
   "outputs": [],
   "source": [
    "!pip install tf_slim"
   ]
  },
  {
   "cell_type": "code",
   "execution_count": null,
   "metadata": {},
   "outputs": [],
   "source": [
    "! python models/research/slim/train_image_classifier.py \\\n",
    "--train_dir=vww_96_grayscale \\\n",
    "--dataset_name=visualwakewords \\\n",
    "--dataset_split_name=train \\\n",
    "--dataset_dir=data/visualwakewords \\\n",
    "--model_name=mobilenet_v1_025 \\\n",
    "--preprocessing_name=mobilenet_v1 \\\n",
    "--train_image_size=96 \\\n",
    "--use_grayscale=True \\\n",
    "--save_summaries_secs=300 \\\n",
    "--learning_rate=0.045 \\\n",
    "--label_smoothing=0.1 \\\n",
    "--learning_rate_decay_factor=0.98 \\\n",
    "--num_epochs_per_decay=2.5 \\\n",
    "--moving_average_decay=0.9999 \\\n",
    "--batch_size=96 \\\n",
    "--max_number_of_steps=1000000 \\\n",
    "--num_clones=1"
   ]
  },
  {
   "cell_type": "code",
   "execution_count": null,
   "metadata": {},
   "outputs": [],
   "source": [
    "! python models/research/slim/eval_image_classifier.py \\\n",
    "--alsologtostderr \\\n",
    "--checkpoint_path=vww_96_grayscale/model.ckpt-1000000 \\\n",
    "--dataset_dir=data/visualwakewords \\\n",
    "--dataset_name=visualwakewords \\\n",
    "--dataset_split_name=val \\\n",
    "--model_name=mobilenet_v1_025 \\\n",
    "--preprocessing_name=mobilenet_v1 \\\n",
    "--use_grayscale=True \\\n",
    "--train_image_size=96"
   ]
  },
  {
   "cell_type": "code",
   "execution_count": null,
   "metadata": {},
   "outputs": [],
   "source": [
    "! python models/research/slim/export_inference_graph.py \\\n",
    "--alsologtostderr \\\n",
    "--dataset_name=visualwakewords \\\n",
    "--model_name=mobilenet_v1_025 \\\n",
    "--image_size=96 \\\n",
    "--use_grayscale=True \\\n",
    "--output_file=vww_96_grayscale_graph.pb"
   ]
  },
  {
   "cell_type": "code",
   "execution_count": null,
   "metadata": {},
   "outputs": [],
   "source": [
    "!git clone -b r1.15 --single-branch https://github.com/tensorflow/tensorflow.git tensorflow\n",
    "! python tensorflow/tensorflow/python/tools/freeze_graph.py \\\n",
    "--input_graph=vww_96_grayscale_graph.pb \\\n",
    "--input_checkpoint=vww_96_grayscale/model.ckpt-1000000 \\\n",
    "--input_binary=true --output_graph=vww_96_grayscale_frozen.pb \\\n",
    "--output_node_names=MobilenetV1/Predictions/Reshape_1"
   ]
  },
  {
   "cell_type": "code",
   "execution_count": null,
   "metadata": {},
   "outputs": [],
   "source": [
    "! python mobilenet_tflite.py"
   ]
  },
  {
   "cell_type": "code",
   "execution_count": null,
   "metadata": {},
   "outputs": [],
   "source": []
  },
  {
   "cell_type": "code",
   "execution_count": null,
   "metadata": {},
   "outputs": [],
   "source": []
  }
 ],
 "metadata": {
  "environment": {
   "name": "tf-gpu.1-15.m55",
   "type": "gcloud",
   "uri": "gcr.io/deeplearning-platform-release/tf-gpu.1-15:m55"
  },
  "kernelspec": {
   "display_name": "Python 3",
   "language": "python",
   "name": "python3"
  },
  "language_info": {
   "codemirror_mode": {
    "name": "ipython",
    "version": 3
   },
   "file_extension": ".py",
   "mimetype": "text/x-python",
   "name": "python",
   "nbconvert_exporter": "python",
   "pygments_lexer": "ipython3",
   "version": "3.7.8"
  }
 },
 "nbformat": 4,
 "nbformat_minor": 4
}
